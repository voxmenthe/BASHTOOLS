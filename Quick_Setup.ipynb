{
  "nbformat": 4,
  "nbformat_minor": 0,
  "metadata": {
    "colab": {
      "name": "Quick_Setup.ipynb",
      "provenance": [],
      "collapsed_sections": [],
      "include_colab_link": true
    },
    "kernelspec": {
      "name": "python3",
      "display_name": "Python 3"
    },
    "accelerator": "GPU"
  },
  "cells": [
    {
      "cell_type": "markdown",
      "metadata": {
        "id": "view-in-github",
        "colab_type": "text"
      },
      "source": [
        "<a href=\"https://colab.research.google.com/github/voxmenthe/BASHTOOLS/blob/master/Quick_Setup.ipynb\" target=\"_parent\"><img src=\"https://colab.research.google.com/assets/colab-badge.svg\" alt=\"Open In Colab\"/></a>"
      ]
    },
    {
      "cell_type": "code",
      "metadata": {
        "id": "ehr2N8WX-jp0",
        "colab_type": "code",
        "outputId": "f16f064b-54f2-4987-815a-08d4c959edee",
        "colab": {
          "base_uri": "https://localhost:8080/",
          "height": 34
        }
      },
      "source": [
        "import torch\n",
        "import torch.nn as nn\n",
        "import torch.nn.functional as F\n",
        "import torch.optim as optim\n",
        "\n",
        "torch.manual_seed(1)"
      ],
      "execution_count": 0,
      "outputs": [
        {
          "output_type": "execute_result",
          "data": {
            "text/plain": [
              "<torch._C.Generator at 0x7f5538d3d490>"
            ]
          },
          "metadata": {
            "tags": []
          },
          "execution_count": 4
        }
      ]
    },
    {
      "cell_type": "code",
      "metadata": {
        "id": "DMsxI8uAgYFw",
        "colab_type": "code",
        "outputId": "7e1793ef-a345-4175-c214-8fcc33f449d5",
        "colab": {
          "base_uri": "https://localhost:8080/",
          "height": 34
        }
      },
      "source": [
        "torch.__version__"
      ],
      "execution_count": 0,
      "outputs": [
        {
          "output_type": "execute_result",
          "data": {
            "text/plain": [
              "'1.4.0'"
            ]
          },
          "metadata": {
            "tags": []
          },
          "execution_count": 3
        }
      ]
    },
    {
      "cell_type": "code",
      "metadata": {
        "id": "9kOI0y27_ABl",
        "colab_type": "code",
        "outputId": "4fb735d4-56df-4cea-914d-6cb4dff86214",
        "colab": {
          "base_uri": "https://localhost:8080/",
          "height": 51
        }
      },
      "source": [
        "word_to_ix = {\"hello\": 0, \"world\": 1}\n",
        "embeds = nn.Embedding(2, 5)  # 2 words in vocab, 5 dimensional embeddings\n",
        "lookup_tensor = torch.tensor([word_to_ix[\"hello\"]], dtype=torch.long)\n",
        "hello_embed = embeds(lookup_tensor)\n",
        "print(hello_embed)"
      ],
      "execution_count": 0,
      "outputs": [
        {
          "output_type": "stream",
          "text": [
            "tensor([[ 0.6614,  0.2669,  0.0617,  0.6213, -0.4519]],\n",
            "       grad_fn=<EmbeddingBackward>)\n"
          ],
          "name": "stdout"
        }
      ]
    },
    {
      "cell_type": "code",
      "metadata": {
        "id": "SBWpWucf_NQD",
        "colab_type": "code",
        "outputId": "addc6a25-28c0-4d6a-948f-4c8ef409b2b6",
        "colab": {
          "base_uri": "https://localhost:8080/",
          "height": 272
        }
      },
      "source": [
        "!ls \"/content/gdrive/My Drive/Colab Notebooks\""
      ],
      "execution_count": 0,
      "outputs": [
        {
          "output_type": "stream",
          "text": [
            " 05_overfit_underfit.ipynb\n",
            "'Copy of 01.01-Help-And-Documentation.ipynb'\n",
            "'Copy of bag-of-tricks.ipynb'\n",
            "'Copy of Captcha_cracker.ipynb'\n",
            "'Copy of gpt-2-playground_.ipynb'\n",
            "'Copy of hanet-tf2.ipynb'\n",
            "'Copy of position_encoding.ipynb'\n",
            "'Copy of transformer.ipynb'\n",
            "'Copy of Youtube Recommender example.ipynb'\n",
            " PyTorch_RNN.ipynb\n",
            " TF_Class\n",
            "'tf.keras for Researchers: Crash Course.ipynb'\n",
            " TPU_test_1.ipynb\n",
            "'TransferLearn Tutorial NAACL 2019 JeffCopy'\n",
            " Untitled0.ipynb\n"
          ],
          "name": "stdout"
        }
      ]
    },
    {
      "cell_type": "markdown",
      "metadata": {
        "id": "yhvE6pjLh5uW",
        "colab_type": "text"
      },
      "source": [
        "### N-Gram Language Modeling\n",
        "\n",
        "In an n-gram language model, given a sequence of words $w$, we weant to compute:\n",
        "$$ P(w_i | w_{i-1}, w_{i-2}, ..., w_{i-n+1})$$\n",
        "Where $w_i$ is the the ith word in the sequence"
      ]
    },
    {
      "cell_type": "code",
      "metadata": {
        "id": "zf1ZrZbw_lL2",
        "colab_type": "code",
        "outputId": "f0f8966d-73db-4687-a351-7941f4c060fb",
        "colab": {
          "base_uri": "https://localhost:8080/",
          "height": 34
        }
      },
      "source": [
        "CONTEXT_SIZE = 2\n",
        "EMBEDDING_DIM = 10\n",
        "\n",
        "# We will use Shakespeare Sonnet 2\n",
        "test_sentence = \"\"\"When forty winters shall besiege thy brow,\n",
        "And dig deep trenches in thy beauty's field,\n",
        "Thy youth's proud livery so gazed on now,\n",
        "Will be a totter'd weed of small worth held:\n",
        "Then being asked, where all thy beauty lies,\n",
        "Where all the treasure of thy lusty days;\n",
        "To say, within thine own deep sunken eyes,\n",
        "Were an all-eating shame, and thriftless praise.\n",
        "How much more praise deserv'd thy beauty's use,\n",
        "If thou couldst answer 'This fair child of mine\n",
        "Shall sum my count, and make my old excuse,'\n",
        "Proving his beauty by succession thine!\n",
        "This were to be new made when thou art old,\n",
        "And see thy blood warm when thou feel'st it cold.\"\"\".split()\n",
        "\n",
        "\n",
        "# we should tokenize the input, but we will ignore that for now\n",
        "# build a list of tuples.  Each tuple is ([ word_i-2, word_i-1 ], target word)\n",
        "trigrams = [([test_sentence[i], test_sentence[i + 1]], test_sentence[i + 2])\n",
        "            for i in range(len(test_sentence) - 2)]\n",
        "\n",
        "# print the first 3, just so you can see what they look like\n",
        "print(trigrams[:3])"
      ],
      "execution_count": 0,
      "outputs": [
        {
          "output_type": "stream",
          "text": [
            "[(['When', 'forty'], 'winters'), (['forty', 'winters'], 'shall'), (['winters', 'shall'], 'besiege')]\n"
          ],
          "name": "stdout"
        }
      ]
    },
    {
      "cell_type": "code",
      "metadata": {
        "id": "fb2K5rnjRMWz",
        "colab_type": "code",
        "outputId": "0594f223-ce65-4c92-f0d7-c71f549d7b54",
        "colab": {
          "base_uri": "https://localhost:8080/",
          "height": 34
        }
      },
      "source": [
        "vocab = set(test_sentence)\n",
        "len(vocab)"
      ],
      "execution_count": 0,
      "outputs": [
        {
          "output_type": "execute_result",
          "data": {
            "text/plain": [
              "97"
            ]
          },
          "metadata": {
            "tags": []
          },
          "execution_count": 8
        }
      ]
    },
    {
      "cell_type": "code",
      "metadata": {
        "id": "unFjrcMMi5gP",
        "colab_type": "code",
        "colab": {}
      },
      "source": [
        "class NGramLanguageModeler(nn.Module):\n",
        "  def __init__(self, vocab_size, embedding_dim, context_size):\n",
        "    super(NGramLanguageModeler, self).__init__()\n",
        "    self.embeddings = nn.Embedding(vocab_size, embedding_dim)\n",
        "    self.linear1 = nn.Linear(context_size * embedding_dim, 128)\n",
        "    self.linear2 = nn.Linear(128, vocab_size)\n",
        "\n",
        "  def forward(self, inputs):\n",
        "    embeds = self.embeddings(inputs).view((1, -1))\n",
        "    out = F.relu(self.linear1(embeds))\n",
        "    out = self.linear2(out)\n",
        "    log_probs = F.log_softmax(out, dims=1)\n",
        "    return log_probs\n",
        "\n",
        "  losses = []\n",
        "  loss_function = nn.NLLLoss()\n",
        "  model = NGramLanguageModeler(len(vocab), EMBEDDING_DIM, CONTEXT_SIZE)\n",
        "  optimizer = optim.SGD(model.parameters(), lr=0.001)\n",
        "\n",
        "  for epoch in range(10):\n",
        "    total_loss = 0\n",
        "    for context, target in trigrams:\n",
        "      # Step 1. Prepare the inputs to be passed to the model\n",
        "      # (i.e. turn the words into integer indices and wrap them in tensors)\n",
        "      context_idxs = torch.tensor([word_to_ix[w] for w in context], dtype=torch.long)\n",
        "\n",
        "      # Step 2. Recall that torch *accumulates* gradients.\n",
        "      # Before passing in a new instance, you need to zero ou the gradients from the old instance\n",
        "      model.zero_grad()\n",
        "\n",
        "      # Step 3. Run the forward pass, getting log probs over the next words\n",
        "      log_probs = model(context_idxs)\n",
        "\n",
        "      # Step 4. Compute your loss function. (Again, Torch wants the target word wrapped in a tensor)\n",
        "      loss = loss_function(log_probs, torch.tensor([word_to_ix[target]], dtype=torch.long))\n",
        "\n",
        "      # Step 5."
      ],
      "execution_count": 0,
      "outputs": []
    }
  ]
}